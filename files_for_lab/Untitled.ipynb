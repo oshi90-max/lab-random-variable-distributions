{
 "cells": [
  {
   "cell_type": "code",
   "execution_count": 1,
   "id": "f7ff7b00",
   "metadata": {},
   "outputs": [],
   "source": [
    "import pandas as pd\n",
    "import numpy as np"
   ]
  },
  {
   "cell_type": "code",
   "execution_count": null,
   "id": "6b04b352",
   "metadata": {},
   "outputs": [],
   "source": [
    "data = pd.read_csv(\"we_fn_use_c_marketing_customer_value_analysis.csv\")\n",
    "data"
   ]
  },
  {
   "cell_type": "code",
   "execution_count": null,
   "id": "6610f74f",
   "metadata": {},
   "outputs": [],
   "source": [
    "data.info()"
   ]
  },
  {
   "cell_type": "code",
   "execution_count": 3,
   "id": "5bf44c7a",
   "metadata": {},
   "outputs": [],
   "source": [
    "cols = []\n",
    "for column in data.columns:\n",
    "    cols.append(column.lower())\n",
    "data.columns = cols\n",
    "data.columns= data.columns. str. replace(' ','_')"
   ]
  },
  {
   "cell_type": "code",
   "execution_count": 4,
   "id": "5131073c",
   "metadata": {},
   "outputs": [],
   "source": [
    "data['effective_to_date']= pd.to_datetime(data['effective_to_date'])"
   ]
  },
  {
   "cell_type": "code",
   "execution_count": 5,
   "id": "0a36b51b",
   "metadata": {},
   "outputs": [],
   "source": [
    "data['number_of_open_complaints']= data['number_of_open_complaints'].astype(str)  # should be categorical as it is devided to categories"
   ]
  },
  {
   "cell_type": "code",
   "execution_count": null,
   "id": "10bf8d53",
   "metadata": {},
   "outputs": [],
   "source": [
    "#cleaning the data"
   ]
  },
  {
   "cell_type": "code",
   "execution_count": 6,
   "id": "86b1ce36",
   "metadata": {},
   "outputs": [],
   "source": [
    "data=data.drop('customer', axis=1)    #droping 'customer'. the column is unnessasery, it doesnt give me information"
   ]
  },
  {
   "cell_type": "code",
   "execution_count": 7,
   "id": "42b3c587",
   "metadata": {},
   "outputs": [],
   "source": [
    "data = data.drop('policy', axis=1) # droping 'policy' because it repets the information in 'policy_type' and doesnt give me more valuable information"
   ]
  },
  {
   "cell_type": "code",
   "execution_count": null,
   "id": "34feed4f",
   "metadata": {},
   "outputs": [],
   "source": []
  }
 ],
 "metadata": {
  "kernelspec": {
   "display_name": "Python 3 (ipykernel)",
   "language": "python",
   "name": "python3"
  },
  "language_info": {
   "codemirror_mode": {
    "name": "ipython",
    "version": 3
   },
   "file_extension": ".py",
   "mimetype": "text/x-python",
   "name": "python",
   "nbconvert_exporter": "python",
   "pygments_lexer": "ipython3",
   "version": "3.9.7"
  }
 },
 "nbformat": 4,
 "nbformat_minor": 5
}
